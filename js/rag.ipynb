{
 "cells": [
  {
   "cell_type": "markdown",
   "id": "3782f663",
   "metadata": {},
   "source": [
    "# QA с помощью RAG\n",
    "В этом ноутбуке мы создадим QA pipeline с langchain-gigachat.\n",
    "Мы загрузим главную страницу репозитория [gigachat-js](https://github.com/ai-forever/gigachat-js/tree/master)\n",
    "и поспрашиваем GigaChat вопросы по этой библиотеке.\n",
    "\n",
    "## Установка\n",
    "### Зависимости\n",
    "```bash\n",
    "npm install --save langchain langchain-gigachat cheerio\n",
    "```\n",
    "### Переменные окружения\n",
    "```bash\n",
    "export GIGACHAT_CREDENTIALS='ваши креды'\n",
    "export GIGACHAT_SCOPE='GIGACHAT_API_CORP' или 'GIGACHAT_API_PERS' или 'GIGACHAT_API_B2B'\n",
    "```"
   ]
  },
  {
   "cell_type": "markdown",
   "id": "1a84a603",
   "metadata": {},
   "source": [
    "Инициализируем подключение к LLM"
   ]
  },
  {
   "cell_type": "code",
   "execution_count": 2,
   "id": "d593bf288aee6a85",
   "metadata": {
    "jupyter": {
     "is_executing": true
    }
   },
   "outputs": [],
   "source": [
    "import { Agent } from 'node:https';\n",
    "import { GigaChat } from \"langchain-gigachat\"\n",
    "/*\n",
    "В обычном Node.js такое отключение проверки сертификатов срабатывает.\n",
    "\n",
    "Но в Deno нет, \n",
    "поэтому используйте проставление NODE_EXTRA_CA_CERTS в env.\n",
    " */\n",
    "const httpsAgent = new Agent({\n",
    "    rejectUnauthorized: false,\n",
    "}); \n",
    "\n",
    "const llm = new GigaChat({\n",
    "    maxRetries: 0,\n",
    "    httpsAgent\n",
    "})"
   ]
  },
  {
   "cell_type": "markdown",
   "id": "14b7c552",
   "metadata": {},
   "source": [
    "Инициализируем нашу RAG цепочку"
   ]
  },
  {
   "cell_type": "code",
   "execution_count": null,
   "id": "c65a1d59",
   "metadata": {},
   "outputs": [],
   "source": [
    "import \"cheerio\";\n",
    "import { CheerioWebBaseLoader } from \"@langchain/community/document_loaders/web/cheerio\";\n",
    "import { RecursiveCharacterTextSplitter } from \"langchain/text_splitter\";\n",
    "import { MemoryVectorStore } from \"langchain/vectorstores/memory\";\n",
    "import { GigaChatEmbeddings, GigaChat } from \"langchain-gigachat\";\n",
    "import { pull } from \"langchain/hub\";\n",
    "import { ChatPromptTemplate } from \"@langchain/core/prompts\";\n",
    "import { formatDocumentsAsString } from \"langchain/util/document\";\n",
    "import {\n",
    "  RunnableSequence,\n",
    "  RunnablePassthrough,\n",
    "} from \"@langchain/core/runnables\";\n",
    "import { StringOutputParser } from \"@langchain/core/output_parsers\";\n",
    "\n",
    "const loader = new CheerioWebBaseLoader(\n",
    "  \"https://raw.githubusercontent.com/ai-forever/gigachat-js/refs/heads/master/README.md\"\n",
    ");\n",
    "\n",
    "const docs = await loader.load();\n",
    "\n",
    "const textSplitter = new RecursiveCharacterTextSplitter({\n",
    "  chunkSize: 1000,\n",
    "  chunkOverlap: 200,\n",
    "});\n",
    "const splits = await textSplitter.splitDocuments(docs);\n",
    "const vectorStore = await MemoryVectorStore.fromDocuments(\n",
    "  splits,\n",
    "  new GigaChatEmbeddings()\n",
    ");\n",
    "\n",
    "const retriever = vectorStore.asRetriever();\n",
    "const prompt = await pull<ChatPromptTemplate>(\"gigachat/rag-prompt\");\n",
    "\n",
    "const ragChain = RunnableSequence.from([\n",
    "  {\n",
    "    context: retriever.pipe(formatDocumentsAsString),\n",
    "    question: new RunnablePassthrough(),\n",
    "  },\n",
    "  prompt,\n",
    "  llm,\n",
    "  new StringOutputParser(),\n",
    "]);\n"
   ]
  },
  {
   "cell_type": "code",
   "execution_count": 4,
   "id": "9fc50434",
   "metadata": {},
   "outputs": [
    {
     "name": "stdout",
     "output_type": "stream",
     "text": [
      "UPDATE TOKEN\n"
     ]
    },
    {
     "data": {
      "text/plain": [
       "\u001b[32m\"Для установки сертификатов при подключении к GigaChat необходимо использовать HTTPS-агент с вашими сертификатами. Вот пример кода на TypeScript:\\n\"\u001b[39m +\n",
       "  \u001b[32m\"\\n\"\u001b[39m +\n",
       "  \u001b[32m\"```typescript\\n\"\u001b[39m +\n",
       "  \u001b[32m\"import GigaChat from 'gigachat';\\n\"\u001b[39m +\n",
       "  \u001b[32m\"import { Agent } from 'node:https';\\n\"\u001b[39m +\n",
       "  \u001b[32m\"import fs from 'node:fs';\\n\"\u001b[39m +\n",
       "  \u001b[32m\"\\n\"\u001b[39m +\n",
       "  \u001b[32m\"const httpsAgent = new Agent({\\n\"\u001b[39m +\n",
       "  \u001b[32m\"  ca: fs.readFileSync('path/to/your/ca.pem'),\\n\"\u001b[39m +\n",
       "  \u001b[32m\"  cert: fs.readFileSync('path/to/your/tls.pem'),\\n\"\u001b[39m +\n",
       "  \u001b[32m\"  key: fs.readFileSync('path/to/your/tls.key'),\\n\"\u001b[39m +\n",
       "  \u001b[32m\"  passphrase: 'password',\\n\"\u001b[39m +\n",
       "  \u001b[32m\"});\\n\"\u001b[39m +\n",
       "  \u001b[32m\"\\n\"\u001b[39m +\n",
       "  \u001b[32m\"const client = new GigaChat({\\n\"\u001b[39m +\n",
       "  \u001b[32m\"  baseUrl: 'YOUR_API_URL',\\n\"\u001b[39m +\n",
       "  \u001b[32m\"  httpsAgent: httpsAgent,\\n\"\u001b[39m +\n",
       "  \u001b[32m\"});\\n\"\u001b[39m +\n",
       "  \u001b[32m\"```\\n\"\u001b[39m +\n",
       "  \u001b[32m\"\\n\"\u001b[39m +\n",
       "  \u001b[32m\"Не забудьте заменить `path/to/your/` на реальные пути к вашим сертификатам.\"\u001b[39m"
      ]
     },
     "execution_count": 4,
     "metadata": {},
     "output_type": "execute_result"
    }
   ],
   "source": [
    "await ragChain.invoke(\"Как установить сертификаты при подключении к GigaChat\");"
   ]
  },
  {
   "cell_type": "markdown",
   "id": "bdbb917f",
   "metadata": {},
   "source": [
    "Хорошо, но при получении ответа, хотелось бы, чтобы возвращались куски документа, которые использовались при формировании ответа\n",
    "# Добавление sources"
   ]
  },
  {
   "cell_type": "code",
   "execution_count": 9,
   "id": "54566db3",
   "metadata": {},
   "outputs": [],
   "source": [
    "import {\n",
    "    RunnableMap,\n",
    "    RunnablePassthrough,\n",
    "    RunnableSequence,\n",
    "  } from \"@langchain/core/runnables\";\n",
    "  import { formatDocumentsAsString } from \"langchain/util/document\";\n",
    "  \n",
    "  const ragChainWithSources = RunnableMap.from({\n",
    "    // Return raw documents here for now since we want to return them at\n",
    "    // the end - we'll format in the next step of the chain\n",
    "    context: retriever,\n",
    "    question: new RunnablePassthrough(),\n",
    "  }).assign({\n",
    "    answer: RunnableSequence.from([\n",
    "      (input) => {\n",
    "        return {\n",
    "          // Now we format the documents as strings for the prompt\n",
    "          context: formatDocumentsAsString(input.context),\n",
    "          question: input.question,\n",
    "        };\n",
    "      },\n",
    "      prompt,\n",
    "      llm,\n",
    "      new StringOutputParser(),\n",
    "    ]),\n",
    "  });\n",
    "  \n",
    "  let resp1 = await ragChainWithSources.invoke(\"Через какой параметр прописывается токен подключения\");"
   ]
  },
  {
   "cell_type": "code",
   "execution_count": 11,
   "id": "cac4032a",
   "metadata": {},
   "outputs": [
    {
     "data": {
      "text/plain": [
       "\u001b[32m\"Токен подключения прописывается через параметр `credentials` при инициализации объекта `GigaChat`.\"\u001b[39m"
      ]
     },
     "execution_count": 11,
     "metadata": {},
     "output_type": "execute_result"
    }
   ],
   "source": [
    "resp1['answer']"
   ]
  },
  {
   "cell_type": "markdown",
   "id": "7b99d791",
   "metadata": {},
   "source": [
    "Смотри какие документы использовались при формировании ответа"
   ]
  },
  {
   "cell_type": "code",
   "execution_count": 12,
   "id": "082e4e58",
   "metadata": {},
   "outputs": [
    {
     "data": {
      "text/plain": [
       "[\n",
       "  Document {\n",
       "    pageContent: \u001b[32m\"| `timeout`                 | Таймаут (в секундах), который используется при подключении                                                                                                                                                                                                                                                                                                                                                                                                                                                                                             |\"\u001b[39m,\n",
       "    metadata: {\n",
       "      source: \u001b[32m\"https://raw.githubusercontent.com/ai-forever/gigachat-js/refs/heads/master/README.md\"\u001b[39m,\n",
       "      loc: { lines: { from: \u001b[33m154\u001b[39m, to: \u001b[33m154\u001b[39m } }\n",
       "    },\n",
       "    id: \u001b[90mundefined\u001b[39m\n",
       "  },\n",
       "  Document {\n",
       "    pageContent: \u001b[32m\"## Способы авторизации\\n\"\u001b[39m +\n",
       "      \u001b[32m\"\\n\"\u001b[39m +\n",
       "      \u001b[32m\"Для авторизации запросов, кроме ключа, полученного в личном кабинете, вы можете использовать:\\n\"\u001b[39m +\n",
       "      \u001b[32m\"\\n\"\u001b[39m +\n",
       "      \u001b[32m\"- credentials\\n\"\u001b[39m +\n",
       "      \u001b[32m\"- имя пользователя и пароль для доступа к сервису;\\n\"\u001b[39m +\n",
       "      \u001b[32m\"- сертификаты TLS;\\n\"\u001b[39m +\n",
       "      \u001b[32m\"- токен доступа (access token), полученный в обмен на ключ авторизации в запросе [`POST /api/v2/oauth`](https://developers.sber.ru/docs/ru/gigachat/api/reference/rest/post-token).\\n\"\u001b[39m +\n",
       "      \u001b[32m\"\\n\"\u001b[39m +\n",
       "      \u001b[32m\"Для этого передайте соответствующие параметры при инициализации.\\n\"\u001b[39m +\n",
       "      \u001b[32m\"\\n\"\u001b[39m +\n",
       "      \u001b[32m\"Пример авторизации с credentials:\\n\"\u001b[39m +\n",
       "      \u001b[32m\"\\n\"\u001b[39m +\n",
       "      \u001b[32m\"```ts\\n\"\u001b[39m +\n",
       "      \u001b[32m\"const client = new GigaChat({\\n\"\u001b[39m +\n",
       "      \u001b[32m\"  credentials: 'креды',\\n\"\u001b[39m +\n",
       "      \u001b[32m\"  scope: 'GIGACHAT_API_PERS / GIGACHAT_API_B2B / GIGACHAT_API_CORP',\\n\"\u001b[39m +\n",
       "      \u001b[32m\"});\\n\"\u001b[39m +\n",
       "      \u001b[32m\"```\\n\"\u001b[39m +\n",
       "      \u001b[32m\"\\n\"\u001b[39m +\n",
       "      \u001b[32m\"Пример авторизации с помощью логина и пароля:\\n\"\u001b[39m +\n",
       "      \u001b[32m\"\\n\"\u001b[39m +\n",
       "      \u001b[32m\"```ts\\n\"\u001b[39m +\n",
       "      \u001b[32m\"const client = new GigaChat({\\n\"\u001b[39m +\n",
       "      \u001b[32m\"  baseUrl: 'BASE URL апи',\\n\"\u001b[39m +\n",
       "      \u001b[32m\"  user: 'юзернейм',\\n\"\u001b[39m +\n",
       "      \u001b[32m\"  password: 'пароль',\\n\"\u001b[39m +\n",
       "      \u001b[32m\"});\\n\"\u001b[39m +\n",
       "      \u001b[32m\"```\\n\"\u001b[39m +\n",
       "      \u001b[32m\"\\n\"\u001b[39m +\n",
       "      \u001b[32m\"Авторизация с помощью сертификатов по протоколу TLS (mTLS):\\n\"\u001b[39m +\n",
       "      \u001b[32m\"\\n\"\u001b[39m +\n",
       "      \u001b[32m\"```ts\\n\"\u001b[39m +\n",
       "      \u001b[32m\"import GigaChat from 'gigachat';\\n\"\u001b[39m +\n",
       "      \u001b[32m\"import { Agent } from 'node:https';\\n\"\u001b[39m +\n",
       "      \u001b[32m\"import fs from 'node:fs';\"\u001b[39m,\n",
       "    metadata: {\n",
       "      source: \u001b[32m\"https://raw.githubusercontent.com/ai-forever/gigachat-js/refs/heads/master/README.md\"\u001b[39m,\n",
       "      loc: { lines: { from: \u001b[33m66\u001b[39m, to: \u001b[33m101\u001b[39m } }\n",
       "    },\n",
       "    id: \u001b[90mundefined\u001b[39m\n",
       "  },\n",
       "  Document {\n",
       "    pageContent: \u001b[32m\"Если вам нужно получить токен и авторизоваться до выполнения запроса, инициализируйте объект GigaChat и вызовите метод `get_token()`.\\n\"\u001b[39m +\n",
       "      \u001b[32m\"\\n\"\u001b[39m +\n",
       "      \u001b[32m\"```ts\\n\"\u001b[39m +\n",
       "      \u001b[32m\"const client = new GigaChat({\\n\"\u001b[39m +\n",
       "      \u001b[32m\"  credentials: 'креды',\\n\"\u001b[39m +\n",
       "      \u001b[32m\"  scope: 'GIGACHAT_API_PERS / GIGACHAT_API_B2B / GIGACHAT_API_CORP',\\n\"\u001b[39m +\n",
       "      \u001b[32m\"});\\n\"\u001b[39m +\n",
       "      \u001b[32m\"await giga.updateToken();\\n\"\u001b[39m +\n",
       "      \u001b[32m\"```\\n\"\u001b[39m +\n",
       "      \u001b[32m\"\\n\"\u001b[39m +\n",
       "      \u001b[32m\"## Параметры объекта GigaChat\\n\"\u001b[39m +\n",
       "      \u001b[32m\"\\n\"\u001b[39m +\n",
       "      \u001b[32m\"В таблице описаны параметры, которые можно передать при инициализации объекта GigaChat:\"\u001b[39m,\n",
       "    metadata: {\n",
       "      source: \u001b[32m\"https://raw.githubusercontent.com/ai-forever/gigachat-js/refs/heads/master/README.md\"\u001b[39m,\n",
       "      loc: { lines: { from: \u001b[33m132\u001b[39m, to: \u001b[33m144\u001b[39m } }\n",
       "    },\n",
       "    id: \u001b[90mundefined\u001b[39m\n",
       "  },\n",
       "  Document {\n",
       "    pageContent: \u001b[32m\"| Параметр                  | Описание                                                                                                                                                                                                                                                                                                                                                                                                                                                                                                                                               |\"\u001b[39m,\n",
       "    metadata: {\n",
       "      source: \u001b[32m\"https://raw.githubusercontent.com/ai-forever/gigachat-js/refs/heads/master/README.md\"\u001b[39m,\n",
       "      loc: { lines: { from: \u001b[33m146\u001b[39m, to: \u001b[33m146\u001b[39m } }\n",
       "    },\n",
       "    id: \u001b[90mundefined\u001b[39m\n",
       "  }\n",
       "]"
      ]
     },
     "execution_count": 12,
     "metadata": {},
     "output_type": "execute_result"
    }
   ],
   "source": [
    "resp1['context']"
   ]
  }
 ],
 "metadata": {
  "kernelspec": {
   "display_name": "Deno",
   "language": "typescript",
   "name": "deno"
  },
  "language_info": {
   "codemirror_mode": "typescript",
   "file_extension": ".ts",
   "mimetype": "text/x.typescript",
   "name": "typescript",
   "nbconvert_exporter": "script",
   "pygments_lexer": "typescript",
   "version": "5.6.2"
  }
 },
 "nbformat": 4,
 "nbformat_minor": 5
}
