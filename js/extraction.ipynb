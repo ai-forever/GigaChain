{
 "cells": [
  {
   "cell_type": "markdown",
   "metadata": {},
   "source": [
    "# Extraction\n",
    "В этом ноутбуке мы создадим pipeline, с помощью которого мы сможем выделять сущности из текста.\n",
    "\n",
    "## Установка\n",
    "### Зависимости\n",
    "```bash\n",
    "npm install --save langchain langchain-gigachat zod\n",
    "```\n",
    "### Переменные окружения\n",
    "```bash\n",
    "export GIGACHAT_CREDENTIALS='ваши креды'\n",
    "export GIGACHAT_SCOPE='GIGACHAT_API_CORP' или 'GIGACHAT_API_PERS' или 'GIGACHAT_API_B2B'\n",
    "```"
   ]
  },
  {
   "cell_type": "markdown",
   "metadata": {},
   "source": [
    "## Схема\n",
    "Здесь мы инициализируем схему, по которой GigaChat будет выделять сущности.\n",
    "Схему мы инициализируем с помощью [Zod](https://zod.dev/)"
   ]
  },
  {
   "cell_type": "code",
   "execution_count": 8,
   "metadata": {},
   "outputs": [],
   "source": [
    "import { z } from \"zod\";\n",
    "\n",
    "const personSchema = z.object({\n",
    "  name: z.optional(z.string()).describe(\"Имя человека\"),\n",
    "  hair_color: z\n",
    "    .optional(z.string())\n",
    "    .describe(\"Цвет волос, если известен\"),\n",
    "  height_in_meters: z\n",
    "    .optional(z.number())\n",
    "    .describe(\"Высота в метрах\"),\n",
    "});"
   ]
  },
  {
   "cell_type": "markdown",
   "metadata": {},
   "source": [
    "## LLM цепочка\n"
   ]
  },
  {
   "cell_type": "code",
   "execution_count": 3,
   "metadata": {},
   "outputs": [],
   "source": [
    "import { ChatPromptTemplate } from \"@langchain/core/prompts\";\n",
    "\n",
    "// Определите пользовательский промпт для предоставления инструкций и дополнительного контекста.\n",
    "// 1) Вы можете добавить примеры в шаблон промпта, чтобы улучшить качество извлечения.\n",
    "// 2) Введите дополнительные параметры, чтобы учитывать контекст (например, включите метаданные\n",
    "//    о документе, из которого был извлечен текст.)\n",
    "const promptTemplate = ChatPromptTemplate.fromMessages([\n",
    "  [\n",
    "    \"system\",\n",
    "    `Ты алгоритм выделения сущностей из текста.\n",
    "Выделяй только релевантную информацию из текста\n",
    "Если ты не знаешь значение для атрибута, который нужно выделить проставь значение этого атрибута в null.`,\n",
    "  ],\n",
    "  [\"human\", \"{text}\"],\n",
    "]);"
   ]
  },
  {
   "cell_type": "code",
   "execution_count": 9,
   "metadata": {},
   "outputs": [],
   "source": [
    "import { Agent } from 'node:https';\n",
    "import { GigaChat } from \"langchain-gigachat\"\n",
    "/*\n",
    "В обычном Node.js такое отключение проверки сертификатов срабатывает.\n",
    "\n",
    "Но в Deno нет, \n",
    "поэтому используйте проставление NODE_EXTRA_CA_CERTS в env.\n",
    " */\n",
    "const httpsAgent = new Agent({\n",
    "    rejectUnauthorized: false,\n",
    "}); \n",
    "\n",
    "const llm = new GigaChat({\n",
    "    maxRetries: 0,\n",
    "    model: 'GigaChat-Max',\n",
    "    httpsAgent\n",
    "})"
   ]
  },
  {
   "cell_type": "code",
   "execution_count": 10,
   "metadata": {},
   "outputs": [],
   "source": [
    "const structured_llm = llm.withStructuredOutput(personSchema);"
   ]
  },
  {
   "cell_type": "code",
   "execution_count": 11,
   "metadata": {},
   "outputs": [
    {
     "name": "stdout",
     "output_type": "stream",
     "text": [
      "UPDATE TOKEN\n"
     ]
    },
    {
     "data": {
      "text/plain": [
       "{ name: \u001b[32m\"Алан Смит\"\u001b[39m, hair_color: \u001b[32m\"белый\"\u001b[39m, height_in_meters: \u001b[33m1.8288\u001b[39m }"
      ]
     },
     "execution_count": 11,
     "metadata": {},
     "output_type": "execute_result"
    }
   ],
   "source": [
    "const prompt = await promptTemplate.invoke({\n",
    "    text: \"Алан Смит высотой 6 футов с белыми волосами \",\n",
    "  });\n",
    "await structured_llm.invoke(prompt);"
   ]
  }
 ],
 "metadata": {
  "kernelspec": {
   "display_name": "Deno",
   "language": "typescript",
   "name": "deno"
  },
  "language_info": {
   "codemirror_mode": "typescript",
   "file_extension": ".ts",
   "mimetype": "text/x.typescript",
   "name": "typescript",
   "nbconvert_exporter": "script",
   "pygments_lexer": "typescript",
   "version": "5.6.2"
  }
 },
 "nbformat": 4,
 "nbformat_minor": 2
}
