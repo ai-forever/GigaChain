{
 "cells": [
  {
   "cell_type": "markdown",
   "id": "6df33669-6279-456b-8941-9cee43c2050c",
   "metadata": {},
   "source": [
    "# Агент с текстовым поиском на основе Yandex Search API"
   ]
  },
  {
   "cell_type": "markdown",
   "id": "7d83e4d3-b576-4eed-9b92-d585674a46d2",
   "metadata": {},
   "source": [
    "В данном примере рассмотрим возможность построения агента с использованием текстового поиска на основе [Yandex Search API](https://yandex.cloud/ru/services/search-api)  \n",
    "\n",
    "Для данного примера необходимо:\n",
    "- **GigaChat API**: получить [авторизационные данные](https://developers.sber.ru/docs/ru/gigachain/get-started/quickstart#nastroyka-avtorizatsii-zaprosov-k-giga-chat-api)\n",
    "- **Yandex Search API**: получить идентификатор каталога (folderid) и API-ключ (apikey) для [аутентификации в сервисе](https://yandex.cloud/ru/docs/search-api/operations/auth)"
   ]
  },
  {
   "cell_type": "code",
   "execution_count": 1,
   "id": "4ae8f3d2-f1c8-4ce0-8d9f-483486733cd9",
   "metadata": {},
   "outputs": [],
   "source": [
    "from getpass import getpass\n",
    "import os\n",
    "from uuid import uuid4\n",
    "\n",
    "from dotenv import find_dotenv, load_dotenv"
   ]
  },
  {
   "cell_type": "code",
   "execution_count": 2,
   "id": "c77c7550-f9ce-4dac-a3f7-e09a9402327b",
   "metadata": {},
   "outputs": [],
   "source": [
    "def _set_env(key: str):\n",
    "    if key not in os.environ:\n",
    "        os.environ[key] = getpass(f\"{key}:\")"
   ]
  },
  {
   "cell_type": "code",
   "execution_count": 3,
   "id": "54834cc6-cd39-40a4-bc23-6f1cc5dfd7bd",
   "metadata": {},
   "outputs": [
    {
     "data": {
      "text/plain": [
       "True"
      ]
     },
     "execution_count": 3,
     "metadata": {},
     "output_type": "execute_result"
    }
   ],
   "source": [
    "load_dotenv(find_dotenv())"
   ]
  },
  {
   "cell_type": "code",
   "execution_count": 4,
   "id": "ee444541-424a-49eb-b737-02e0d3be6850",
   "metadata": {},
   "outputs": [],
   "source": [
    "_set_env(\"GIGACHAT_CREDENTIALS\")\n",
    "_set_env(\"YANDEX_API_KEY\")\n",
    "_set_env(\"YANDEX_FOLDER_ID\")"
   ]
  },
  {
   "cell_type": "markdown",
   "id": "2a6aa22f-3ce0-4c3d-9112-cfb09d7f3678",
   "metadata": {},
   "source": [
    "## Конфигурация"
   ]
  },
  {
   "cell_type": "code",
   "execution_count": 5,
   "id": "6545f888-e184-41ae-9930-9c0353e158ce",
   "metadata": {},
   "outputs": [],
   "source": [
    "from operator import itemgetter\n",
    "from textwrap import dedent\n",
    "\n",
    "from IPython.display import Markdown\n",
    "from langchain.agents import AgentExecutor, create_tool_calling_agent\n",
    "from langchain_gigachat.chat_models import GigaChat\n",
    "from langchain_community.tools.yandex_search import YandexSearchResults\n",
    "from langchain_community.utilities.yandex_search import YandexSearchAPIWrapper\n",
    "from langchain_core.chat_history import InMemoryChatMessageHistory\n",
    "from langchain_core.prompts import ChatPromptTemplate\n",
    "from langchain_core.runnables.history import RunnableWithMessageHistory"
   ]
  },
  {
   "cell_type": "markdown",
   "id": "64b6d966-f303-4524-9942-f16999ad803b",
   "metadata": {},
   "source": [
    "Используем модель `GigaChat-Pro` для данной задачи."
   ]
  },
  {
   "cell_type": "code",
   "execution_count": 6,
   "id": "ccfea167-e679-46c4-9225-984117327c59",
   "metadata": {},
   "outputs": [],
   "source": [
    "model = GigaChat(\n",
    "    model=\"GigaChat-Pro\",\n",
    "    verify_ssl_certs=False,\n",
    ")"
   ]
  },
  {
   "cell_type": "markdown",
   "id": "e8ffdef3-7936-49b5-869c-f8d471d725fb",
   "metadata": {},
   "source": [
    "Создадим клиента для Yandex Search API с параметрами по умолчанию.  \n",
    "Детальную информацию по дополнительным параметрам можно уточнить в [документации](https://yandex.cloud/ru/docs/search-api/concepts/get-request)."
   ]
  },
  {
   "cell_type": "code",
   "execution_count": 8,
   "id": "28f1d546-dd33-4a4a-abaa-395c567dfcd8",
   "metadata": {},
   "outputs": [],
   "source": [
    "api_wrapper = YandexSearchAPIWrapper()"
   ]
  },
  {
   "cell_type": "markdown",
   "id": "77b907d7-4992-4bb6-8ba2-54fd932463fe",
   "metadata": {},
   "source": [
    "Определим tool для агента для возможности поиска в интернете.  \n",
    "В случае, если клиент для Yandex Search API используется с параметрами по умолчанию, то можно не передавать аргумент api_wrapper для tool."
   ]
  },
  {
   "cell_type": "code",
   "execution_count": 9,
   "id": "e487cc43-075f-4054-be7b-c98e9745b625",
   "metadata": {},
   "outputs": [],
   "source": [
    "search_tool = YandexSearchResults(max_results=10)"
   ]
  },
  {
   "cell_type": "markdown",
   "id": "2b8a2a71-bff3-4e34-9224-b8de7f1b509e",
   "metadata": {},
   "source": [
    "Создадим агента, предоставив ему tool для возможности поиска в интернете в случае необходимости."
   ]
  },
  {
   "cell_type": "code",
   "execution_count": 10,
   "id": "d3a22a8e-96f0-4033-aac8-b074812aa055",
   "metadata": {},
   "outputs": [],
   "source": [
    "prompt = ChatPromptTemplate.from_messages(\n",
    "    [\n",
    "        (\"placeholder\", \"{chat_history}\"),\n",
    "        (\"human\", \"{input}\"),\n",
    "        (\"placeholder\", \"{agent_scratchpad}\"),\n",
    "    ]\n",
    ")\n",
    "\n",
    "tools = [search_tool]\n",
    "\n",
    "agent = create_tool_calling_agent(model, tools, prompt)\n",
    "agent_executor = AgentExecutor(agent=agent, tools=tools, verbose=True)\n",
    "\n",
    "session_id = str(uuid4())\n",
    "memory = InMemoryChatMessageHistory(session_id=session_id)\n",
    "agent_with_chat_history = RunnableWithMessageHistory(\n",
    "    agent_executor,\n",
    "    lambda session_id: memory,\n",
    "    input_messages_key=\"input\",\n",
    "    history_messages_key=\"chat_history\",\n",
    ")\n",
    "config = {\"configurable\": {\"session_id\": session_id}}"
   ]
  },
  {
   "cell_type": "markdown",
   "id": "6e4a2fe9-9203-41f7-b747-7c3ee6cf5276",
   "metadata": {},
   "source": [
    "## Примеры использования"
   ]
  },
  {
   "cell_type": "code",
   "execution_count": 11,
   "id": "68bd2da7-b978-4f93-b22b-387dcaa3b41b",
   "metadata": {},
   "outputs": [
    {
     "name": "stdout",
     "output_type": "stream",
     "text": [
      "User: Привет! Как дела?\n"
     ]
    },
    {
     "name": "stdout",
     "output_type": "stream",
     "text": [
      "User: Привет! Как дела?\n",
      "\n",
      "\n",
      "\u001b[1m> Entering new AgentExecutor chain...\u001b[0m\n",
      "\u001b[32;1m\u001b[1;3mЗдравствуйте! Я генеративная языковая модель, поэтому у меня не может быть собственных дел. Но я всегда готова ответить на ваши вопросы или поддержать беседу.\u001b[0m\n",
      "\n",
      "\u001b[1m> Finished chain.\u001b[0m\n",
      "Agent: Здравствуйте! Я генеративная языковая модель, поэтому у меня не может быть собственных дел. Но я всегда готова ответить на ваши вопросы или поддержать беседу.\n"
     ]
    },
    {
     "name": "stdout",
     "output_type": "stream",
     "text": [
      "User: Почему небо голубое?\n"
     ]
    },
    {
     "name": "stdout",
     "output_type": "stream",
     "text": [
      "User: Почему небо голубое?\n",
      "\n",
      "\n",
      "\u001b[1m> Entering new AgentExecutor chain...\u001b[0m\n",
      "\u001b[32;1m\u001b[1;3mНа самом деле цвет неба определяется рассеянием света в атмосфере. Солнечный свет состоит из волн разной длины, которые воспринимаются нашим глазом как разные цвета (красный, оранжевый, желтый, зеленый, голубой, синий, фиолетовый). Короткие волны, а именно голубые и синие, рассеиваются сильнее всего. Поэтому мы видим небо голубым.\u001b[0m\n",
      "\n",
      "\u001b[1m> Finished chain.\u001b[0m\n",
      "Agent: На самом деле цвет неба определяется рассеянием света в атмосфере. Солнечный свет состоит из волн разной длины, которые воспринимаются нашим глазом как разные цвета (красный, оранжевый, желтый, зеленый, голубой, синий, фиолетовый). Короткие волны, а именно голубые и синие, рассеиваются сильнее всего. Поэтому мы видим небо голубым.\n"
     ]
    },
    {
     "name": "stdout",
     "output_type": "stream",
     "text": [
      "User: Кто выиграл ЕВРО-2024?\n"
     ]
    },
    {
     "name": "stdout",
     "output_type": "stream",
     "text": [
      "User: Кто выиграл ЕВРО-2024?\n",
      "\n",
      "\n",
      "\u001b[1m> Entering new AgentExecutor chain...\u001b[0m\n",
      "\u001b[32;1m\u001b[1;3m\n",
      "Invoking: `yandex_search_results_json` with `{'query': 'кто выиграл евро-2024'}`\n",
      "\n",
      "\n",
      "\u001b[0m\u001b[36;1m\u001b[1;3m[{'url': 'https://meduza.io/feature/2024/07/15/evro-2024-zakonchilsya-ispaniya-chempion', 'content': '14 июля сборная Испании в финале Евро-2024 обыграла Англию со счетом 2:1 и в четвертый раз стала чемпионом Европы по футболу (это рекорд!) Финальный матч проходил на Олимпийском стадионе в Берлине. Болельщики обеих сборных следили за игрой в самых разных местах — в пабах, кафе, фан-зонах, на улицах и стадионах.'}, {'url': 'https://ru.wikipedia.org/wiki/%D0%A7%D0%B5%D0%BC%D0%BF%D0%B8%D0%BE%D0%BD%D0%B0%D1%82_%D0%95%D0%B2%D1%80%D0%BE%D0%BF%D1%8B_%D0%BF%D0%BE_%D1%84%D1%83%D1%82%D0%B1%D0%BE%D0%BB%D1%83_2024', 'content': 'Чемпионат Европы по футболу 2024 года (англ. 2024 UEFA European Football Championship или Евро-2024, UEFA Euro 2024 нем.'}, {'url': 'https://www.nur.kz/sport/football/2133837-sbornaya-ispanii-obygrala-angliyu-i-stala-chempionom-evropy-po-futbolu/', 'content': 'Футболисты сборной Испании в финале Евро-2024.\\nИспанцы выиграли со счетом 2:1. В составе победителей отличились Нико Уильямс (47 минута) и Микель Оярсабаль (86), которым ассистировали Ламин Ямаль и Марк Кукурелья соответственно. Единственный мяч англичан с передачи Джуда Беллингема забил Коул Палмер (73). Сборная Испании единолично стала самой титулованной командой в истории чемпионатов Европы.'}, {'url': 'https://novayagazeta.eu/articles/2024/07/16/oshibki-veteranov-pobedy-novichkov-mnogo-politiki', 'content': 'Главные наблюдения после Евро-2024.\\nПодводим итоги Евро-2024 — каким участники и зрители запомнят этот чемпионат? Звездные сборные разочаровали. Перед турниром казалось, что есть несколько очевидных фаворитов: суперзвездная Франция, Англия с самым дорогим составом, сборная Италии с «футболом будущего», Португалия с яркой атакующей группой.'}, {'url': 'https://ru.uefa.com/euro2024/news/028f-1b4e6c936ec4-43c850dd0239-1000--%D0%B4%D0%BE%D1%81%D1%8C%D0%B5-%D0%BF/', 'content': 'Лучший результат на ЕВРО : победитель (1964, 2008, 2012, 2024) Предыдущие финалы на ЕВРО: 1964 (победа над СССР), 1984 (поражение от Франции), 2008 (победа над Германией), 2012 (победа над Италией) ЕВРО-2020 : 1/2 финала - 1:1, пен. 2:4 против Италии. Путь к трофею Испанцы выиграли все семь матчей на ЕВРО-2024, забив в общей сложности 15 голов при четырех пропущенных.'}, {'url': 'https://www.bbc.com/russian/articles/ckmg6zn74xlo', 'content': 'Сборная Испании по футболу выиграла Евро-2024, одолев в захватывающем финале англичан, не сумевших повторить триумф женской сборной на Евро-2022. Испанцы полностью доминировали в игре и заслуженно стали чемпионами континента в четвертый раз. Англичане второй раз подряд выходят в финал европейского чемпионата.'}, {'url': 'https://www.championat.com/football/article-5630576-sbornaya-ispanii-chempion-evro-2024-v-chyom-sila-komandy-de-la-fuente-pochemu-ona-vyigrala-chempionat-evropy-mnenie.html', 'content': 'Такие люди, как Родри , часто выигрывают финалы. Чаще не голами или ассистами, а мощным влиянием на игру.\\nМартин Субименди в финале Евро-2024. Фото: Stu Forster/Getty Images. До финала Субименди целиком отыграл матч с Албанией, который ничего не решал для испанцев, и вышел на пару минут против Франции.'}, {'url': 'https://holod.media/2024/07/14/vyigrala-evro-2024/', 'content': 'Первой в финал Евро-2024 вышла сборная Испании, обыграв сборную Франции со счетом 2:1. Матч состоялся 9 июля. На следующий день сборная Англии обыграла команду Нидерландов с таким же счетом.\\nВсего на Евро Испания и Англия встречались два раза, матч в рамках чемпионата 2024 года стал третьим. Оба раза сборная Англии обыграла сборную Испании.'}, {'url': 'https://www.vesty.co.il/main/sports/article/wvxblghk5', 'content': 'Таким образом Испания стала чемпионом Европы, став самой титулованной командой по числу побед на Евро. Ранее испанцы выигрывали чемпионаты Европы в 1964, 2008 и 2012 годах. Сборная Англии во второй раз подряд проиграла в финале чемпионата Европы. На Евро-2020 англичане уступили команде Италии (1:1, 2:3 пен.).'}, {'url': 'https://www.sport-express.ru/football/euro/reviews/ispaniya-vyigrala-chempionat-evropy-2024-po-futbolu-mnenie-rabinera-o-finale-i-itogah-turnira-v-germanii-2233404/', 'content': 'Но иногда молодого суперталанта не берут, а команда побеждает — так, как это произошло со сборной Аргентины на домашнем для нее ЧМ-1978, когда главный тренер Сесар Луис Менотти не вызвал юного Диего Марадону, но «Альбиселесте» впервые выиграли мировое первенство.\\nБензема считает, что Испания заслуженно победила на Евро-2024.'}]\u001b[0m\u001b[32;1m\u001b[1;3mСборная Испании выиграла Евро-2024, обыграв в финале Англию со счетом 2:1. Это уже четвертая победа Испании на чемпионате Европы по футболу.\u001b[0m\n",
      "\n",
      "\u001b[1m> Finished chain.\u001b[0m\n",
      "Agent: Сборная Испании выиграла Евро-2024, обыграв в финале Англию со счетом 2:1. Это уже четвертая победа Испании на чемпионате Европы по футболу.\n"
     ]
    },
    {
     "name": "stdout",
     "output_type": "stream",
     "text": [
      "User: Спасибо!\n"
     ]
    },
    {
     "name": "stdout",
     "output_type": "stream",
     "text": [
      "User: Спасибо!\n",
      "\n",
      "\n",
      "\u001b[1m> Entering new AgentExecutor chain...\u001b[0m\n",
      "\u001b[32;1m\u001b[1;3mПожалуйста! Если у Вас есть ещё вопросы, задавайте.\u001b[0m\n",
      "\n",
      "\u001b[1m> Finished chain.\u001b[0m\n",
      "Agent: Пожалуйста! Если у Вас есть ещё вопросы, задавайте.\n"
     ]
    },
    {
     "name": "stdout",
     "output_type": "stream",
     "text": [
      "User: q\n"
     ]
    },
    {
     "name": "stdout",
     "output_type": "stream",
     "text": [
      "User: q\n",
      "До свидания!\n"
     ]
    }
   ],
   "source": [
    "while True:\n",
    "    user_input = input(\"User:\")\n",
    "    print(f\"User: {user_input}\")\n",
    "    \n",
    "    if user_input.lower() in [\"quit\", \"exit\", \"q\"]:\n",
    "        print(\"До свидания!\")\n",
    "        break\n",
    "        \n",
    "    response = agent_with_chat_history.invoke({\"input\": user_input}, config)['output']\n",
    "    print(f\"Agent: {response}\")"
   ]
  }
 ],
 "metadata": {
  "kernelspec": {
   "display_name": "gigachain-community",
   "language": "python",
   "name": "gigachain-community"
  },
  "language_info": {
   "codemirror_mode": {
    "name": "ipython",
    "version": 3
   },
   "file_extension": ".py",
   "mimetype": "text/x-python",
   "name": "python",
   "nbconvert_exporter": "python",
   "pygments_lexer": "ipython3",
   "version": "3.11.5"
  }
 },
 "nbformat": 4,
 "nbformat_minor": 5
}
