{
 "cells": [
  {
   "cell_type": "markdown",
   "metadata": {},
   "source": [
    "# Использование функций GigaChat\n",
    "В этом ноутбуке мы дадим возможность GigaChat вызывать внешние функции, \n",
    "а именно поиск в интернете с помощью [Tavily](https://tavily.com/)\n",
    "\n",
    "## Установка\n",
    "### Зависимости\n",
    "```bash\n",
    "npm install --save langchain langchain-gigachat @langchain/community @langchain/core\n",
    "```\n",
    "### Переменные окружения\n",
    "```bash\n",
    "export GIGACHAT_CREDENTIALS='ваши креды'\n",
    "export GIGACHAT_SCOPE='GIGACHAT_API_CORP' или 'GIGACHAT_API_PERS' или 'GIGACHAT_API_B2B'\n",
    "export TAVILY_API_KEY='API ключ от tavily'\n",
    "```\n",
    "Ключ API Tavily можно получить [здесь](https://app.tavily.com/)"
   ]
  },
  {
   "cell_type": "markdown",
   "metadata": {},
   "source": [
    "## Запуск Tavily tool\n",
    "Для начала импортируем Tavily tool и проверим, как он работает"
   ]
  },
  {
   "cell_type": "code",
   "execution_count": 2,
   "metadata": {},
   "outputs": [],
   "source": [
    "import { TavilySearchResults } from \"@langchain/community/tools/tavily_search\";\n",
    "\n",
    "const tool = new TavilySearchResults({\n",
    "  maxResults: 2,\n",
    "  // ...\n",
    "});"
   ]
  },
  {
   "cell_type": "code",
   "execution_count": 3,
   "metadata": {},
   "outputs": [
    {
     "data": {
      "text/plain": [
       "\u001b[32m'[{\"title\":\"Погода в Москве сейчас - узнайте погоду в реальном времени, Москва ...\",\"url\":\"https://weather.rambler.ru/v-moskve/now/\",\"content\":\"Погода в Москве сейчас: облачно. Температура воздуха -2°С, относительная влажность воздуха 83%, атмосферное давление 753 мм. р.т., ветер северо-западный 1 м/с.\",\"score\":0.9035075,\"raw_content\":null},{\"title\":\"Погода в Москве на сегодня подробно, прогноз погоды на сегодня, Москва ...\",\"url\":\"https://weather.rambler.ru/v-moskve/today/\",\"content\":\"Сегодня погода в Москве: облачно. Температура воздуха днём -2°С, вечером -2°С, ночью -4°С. Относительная влажность воздуха 84%, атмосферное давление 753 мм. р.т., ветер северо-западный 2 м/с.\",\"score\":0.85186684,\"raw_content\":null}]'\u001b[39m"
      ]
     },
     "execution_count": 3,
     "metadata": {},
     "output_type": "execute_result"
    }
   ],
   "source": [
    "await tool.invoke({\n",
    "    input: \"Какая сейчас погода в Москве?\",\n",
    "  });"
   ]
  },
  {
   "cell_type": "markdown",
   "metadata": {},
   "source": [
    "## Подключим LLM"
   ]
  },
  {
   "cell_type": "code",
   "execution_count": 4,
   "metadata": {},
   "outputs": [],
   "source": [
    "import { Agent } from 'node:https';\n",
    "import { GigaChat } from \"langchain-gigachat\"\n",
    "/*\n",
    "В обычном Node.js такое отключение проверки сертификатов срабатывает.\n",
    "\n",
    "Но в Deno нет, \n",
    "поэтому используйте проставление NODE_EXTRA_CA_CERTS в env.\n",
    " */\n",
    "const httpsAgent = new Agent({\n",
    "    rejectUnauthorized: false,\n",
    "}); \n",
    "\n",
    "const llm = new GigaChat({\n",
    "    maxRetries: 0,\n",
    "    httpsAgent\n",
    "})"
   ]
  },
  {
   "cell_type": "code",
   "execution_count": 5,
   "metadata": {},
   "outputs": [
    {
     "name": "stdout",
     "output_type": "stream",
     "text": [
      "UPDATE TOKEN\n"
     ]
    }
   ],
   "source": [
    "import { HumanMessage } from \"@langchain/core/messages\";\n",
    "import { ChatPromptTemplate } from \"@langchain/core/prompts\";\n",
    "import { RunnableLambda } from \"@langchain/core/runnables\";\n",
    "\n",
    "const prompt = ChatPromptTemplate.fromMessages([\n",
    "  [\"system\", \"You are a helpful assistant.\"],\n",
    "  [\"placeholder\", \"{messages}\"],\n",
    "]);\n",
    "\n",
    "const llmWithTools = llm.bindTools([tool], {tool_choice: 'auto'});\n",
    "\n",
    "const chain = prompt.pipe(llmWithTools);\n",
    "\n",
    "const toolChain = RunnableLambda.from(async (userInput: string, config) => {\n",
    "  const humanMessage = new HumanMessage(userInput);\n",
    "  const aiMsg = await chain.invoke(\n",
    "    {\n",
    "      messages: [new HumanMessage(userInput)],\n",
    "    },\n",
    "    config\n",
    "  );\n",
    "  const toolMsgs = await tool.batch(aiMsg.tool_calls, config);\n",
    "  return chain.invoke(\n",
    "    {\n",
    "      messages: [humanMessage, aiMsg, ...toolMsgs],\n",
    "    },\n",
    "    config\n",
    "  );\n",
    "});\n",
    "\n",
    "const toolChainResult = await toolChain.invoke(\n",
    "  \"Какая сейчас погода в Москве?\"\n",
    ");"
   ]
  },
  {
   "cell_type": "code",
   "execution_count": 6,
   "metadata": {},
   "outputs": [
    {
     "name": "stdout",
     "output_type": "stream",
     "text": [
      "AIMessage {\n",
      "  \"tool_calls\": [],\n",
      "  \"content\": \"Сейчас в Москве облачно, температура воздуха -2°С, относительная влажность воздуха 83%, атмосферное давление 753 мм. р.т., ветер северо-западный 1 м/с.\"\n",
      "}\n"
     ]
    }
   ],
   "source": [
    "const { tool_calls, content } = toolChainResult;\n",
    "\n",
    "console.log(\n",
    "  \"AIMessage\",\n",
    "  JSON.stringify(\n",
    "    {\n",
    "      tool_calls,\n",
    "      content,\n",
    "    },\n",
    "    null,\n",
    "    2\n",
    "  )\n",
    ");"
   ]
  }
 ],
 "metadata": {
  "kernelspec": {
   "display_name": "Deno",
   "language": "typescript",
   "name": "deno"
  },
  "language_info": {
   "codemirror_mode": "typescript",
   "file_extension": ".ts",
   "mimetype": "text/x.typescript",
   "name": "typescript",
   "nbconvert_exporter": "script",
   "pygments_lexer": "typescript",
   "version": "5.6.2"
  }
 },
 "nbformat": 4,
 "nbformat_minor": 2
}
