{
 "cells": [
  {
   "metadata": {},
   "cell_type": "markdown",
   "source": [
    "# Создание отчетов из отзывов (часть 2)\n",
    "В этой серии ноутбуков мы покажем, как из большого количества неструктурированных отзывов пользователей можно выделить тематические группы и проблемные области, а затем на основе полученных данных генерировать отчёты.\n",
    "\n",
    "_Пример итогового отчёта: [report.pdf](media/report.pdf)_ \n",
    "\n",
    "Для анализа используются отзывы с [Kaggle датасета](https://www.kaggle.com/datasets/mikhaildvoshansky/bank-reviews)\n",
    "\n",
    "**Структура серии:**\n",
    "1. [Часть 1](part_1.ipynb) – кластеризация и визуальный анализ отзывов.  \n",
    "2. [Часть 2](part_2.ipynb) – генерация отчёта на основе кластеров с использованием LLM.\n",
    "\n",
    "**Инструменты:**\n",
    "- [GigaChat](https://developers.sber.ru/docs/ru/gigachat/api/overview) – генерация эмбеддингов для текста.\n",
    "- [Arize Phoenix](https://phoenix.arize.com/) – визуализация эмбеддингов и анализ кластеров.\n",
    "\n",
    "-----\n",
    "## Методология\n",
    "\n",
    "Процесс анализа отзывов состоит из следующих этапов:\n",
    "\n",
    "1. **Предварительная обработка и кластеризация.**  \n",
    "   Данные, полученные в [части 1](part_1.ipynb), были предварительно обработаны и разбиты на кластеры на основе эмбеддингов.\n",
    "\n",
    "2. **Выбор ключевых кластеров.**  \n",
    "   Выбираются кластеры с наименьшей средней оценкой (grade < 4).\n",
    "\n",
    "3. **Генерация категорий и описание агентов.**  \n",
    "   С помощью LLM (GigaChat) формируются:\n",
    "   - Названия категорий, отражающие суть кластеров (например, \"Проблемы с акциями и бонусными программами\");\n",
    "   - Описание ролей агентов, которые специализируются на анализе конкретных проблем.\n",
    "\n",
    "4. **Создание подотчётов.**  \n",
    "   Для каждого кластера генерируется подотчёт в Markdown.\n",
    "\n",
    "5. **Формирование итогового отчёта.**  \n",
    "   Все подотчёты объединяются в PDF-документ с помощью [md2pdf](https://github.com/jmaupetit/md2pdf).\n",
    "\n",
    "-----\n",
    "## Подготовка к запуску\n",
    "\n",
    "Перед выполнением ноутбука необходимо установить следующие библиотеки:"
   ],
   "id": "3732c03585a4c592"
  },
  {
   "cell_type": "code",
   "id": "initial_id",
   "metadata": {
    "collapsed": true,
    "ExecuteTime": {
     "end_time": "2025-02-18T11:55:00.107409Z",
     "start_time": "2025-02-18T11:54:59.034769Z"
    }
   },
   "source": [
    "%%capture --no-stderr\n",
    "%pip install \"arize-phoenix[embeddings]\" langchain_gigachat pandas numpy md2pdf tqdm python-dotenv"
   ],
   "outputs": [],
   "execution_count": 4
  },
  {
   "metadata": {
    "ExecuteTime": {
     "end_time": "2025-02-18T11:55:03.590732Z",
     "start_time": "2025-02-18T11:55:03.586293Z"
    }
   },
   "cell_type": "code",
   "source": [
    "import getpass\n",
    "import os\n",
    "\n",
    "from dotenv import find_dotenv, load_dotenv\n",
    "\n",
    "load_dotenv(find_dotenv())\n",
    "\n",
    "if \"GIGACHAT_CREDENTIALS\" not in os.environ and \"GIGACHAT_USER\" not in os.environ:\n",
    "    os.environ[\"GIGACHAT_CREDENTIALS\"] = getpass.getpass(\"Credentials от GigaChat\")\n",
    "    \n",
    "scope = \"GIGACHAT_API_PERS\" # Возможно также: GIGACHAT_API_CORP / GIGACHAT_API_B2B"
   ],
   "id": "18079fbd82b971fb",
   "outputs": [],
   "execution_count": 5
  },
  {
   "metadata": {
    "ExecuteTime": {
     "end_time": "2025-02-18T11:55:09.687145Z",
     "start_time": "2025-02-18T11:55:09.007805Z"
    }
   },
   "cell_type": "code",
   "source": [
    "from langchain_gigachat.chat_models import GigaChat\n",
    "\n",
    "llm = GigaChat(\n",
    "    model=\"GigaChat-Max\",\n",
    "    scope=scope,\n",
    "    profanity_check=False,\n",
    "    timeout=1000000\n",
    ")"
   ],
   "id": "ae00528ba3f52c74",
   "outputs": [],
   "execution_count": 6
  },
  {
   "metadata": {},
   "cell_type": "markdown",
   "source": "Подгружаем датасет с кластеризованными отзывами, который мы получили в [части 1](part_1.ipynb) ",
   "id": "689454454ed5059f"
  },
  {
   "metadata": {
    "ExecuteTime": {
     "end_time": "2025-02-19T11:29:42.766501Z",
     "start_time": "2025-02-19T11:29:42.356673Z"
    }
   },
   "cell_type": "code",
   "source": [
    "import pandas as pd\n",
    "import kagglehub\n",
    "from kagglehub import KaggleDatasetAdapter\n",
    "\n",
    "df = kagglehub.load_dataset(\n",
    "  KaggleDatasetAdapter.PANDAS,\n",
    "  \"mikhaildvoshansky/bank-reviews\",\n",
    "  \"bank_reviews.csv\",\n",
    ").rename({\"cluster_id\": \"__phoenix_cluster_id__\"}, axis=1)\n",
    "\n",
    "# Раскоментируйте строку ниже, чтобы загрузить свои данные с кластерами\n",
    "# df = pd.read_pickle('bank_clusterized.pkl')\n",
    "df"
   ],
   "id": "e1664374446ce603",
   "outputs": [
    {
     "data": {
      "text/plain": [
       "      Unnamed: 0                                               text  \\\n",
       "0              0  <p>Добрый день. Хоум банк передал все права в ...   \n",
       "1              1  <p>27.11 на кредитном счете 6889 были заблокир...   \n",
       "2              2  <p>Оформляла кредитную карту Хоум банк в июне ...   \n",
       "3              3  <p>Я пришел в офис, чтобы его закрыть досрочно...   \n",
       "4              4  <p>У меня есть кредит в Хоум банке.</p>\\r\\n<p>...   \n",
       "...          ...                                                ...   \n",
       "1015        1015  <p>Захотел подать заявку на кредитную карту \"1...   \n",
       "1016        1016  <p>Брала рассрочку в Хоум банке. Каждый месяц ...   \n",
       "1017        1017  <p>Здравствуйте, хочу поблагодарить банк Хоум ...   \n",
       "1018        1018  <p>Здравствуйте! Я очень довольна что в этом б...   \n",
       "1019        1019  <p>Здравствуйте! Понадобилась кредитная карта ...   \n",
       "\n",
       "                                                summary  \\\n",
       "0     Пользователь сообщает, что его кредит был пере...   \n",
       "1     Пользователь сообщил о блокировке 10 000 рубле...   \n",
       "2     Пользователь оформил кредитную карту Хоум банк...   \n",
       "3     Пользователь столкнулся с проблемой отсутствия...   \n",
       "4     Пользователь столкнулся с проблемой при оплате...   \n",
       "...                                                 ...   \n",
       "1015  **Краткий пересказ сообщения:**\\n\\nПользовател...   \n",
       "1016  Пользователь сообщает о проблемах с оплатой по...   \n",
       "1017  **Краткий пересказ:**\\nПользователь благодарит...   \n",
       "1018  Пользователь выражает удовлетворение качеством...   \n",
       "1019  Пользователь получил кредитную карту Хоум Банк...   \n",
       "\n",
       "                                                  title  grade  comment_count  \\\n",
       "0            Передали мою кредитную карту в другой банк    1.0              0   \n",
       "1                  Незаконное удержание средств !!!!!!!    1.0              0   \n",
       "2                               Не дали сертификат озон    3.0              0   \n",
       "3                                                Класс)    5.0              0   \n",
       "4                               Просрочка по вине банка    1.0              0   \n",
       "...                                                 ...    ...            ...   \n",
       "1015  Что надо знать перед оформлением кредитки \"120...    5.0              2   \n",
       "1016      Хоум Банк не дает совершить последний платеж     1.0              0   \n",
       "1017                Увеличили лимит на денежный перевод    5.0              0   \n",
       "1018                        Помогут даже в выходные дни    5.0              0   \n",
       "1019                           Выполнили то что обещают    5.0              0   \n",
       "\n",
       "      is_countable                         timestamp  __phoenix_cluster_id__  \n",
       "0              NaN  2025-02-06 12:20:50.269000+00:00                      21  \n",
       "1              NaN  2025-02-06 12:20:50.269000+00:00                      41  \n",
       "2              NaN  2025-02-06 12:20:50.269000+00:00                       0  \n",
       "3              0.0  2025-02-06 12:20:50.269000+00:00                      11  \n",
       "4              NaN  2025-02-06 12:20:50.269000+00:00                      46  \n",
       "...            ...                               ...                     ...  \n",
       "1015           1.0  2025-02-06 12:20:50.269000+00:00                      23  \n",
       "1016           1.0  2025-02-06 12:20:50.269000+00:00                      46  \n",
       "1017           0.0  2025-02-06 12:20:50.269000+00:00                       8  \n",
       "1018           1.0  2025-02-06 12:20:50.269000+00:00                       7  \n",
       "1019           0.0  2025-02-06 12:20:50.269000+00:00                       0  \n",
       "\n",
       "[1020 rows x 9 columns]"
      ],
      "text/html": [
       "<div>\n",
       "<style scoped>\n",
       "    .dataframe tbody tr th:only-of-type {\n",
       "        vertical-align: middle;\n",
       "    }\n",
       "\n",
       "    .dataframe tbody tr th {\n",
       "        vertical-align: top;\n",
       "    }\n",
       "\n",
       "    .dataframe thead th {\n",
       "        text-align: right;\n",
       "    }\n",
       "</style>\n",
       "<table border=\"1\" class=\"dataframe\">\n",
       "  <thead>\n",
       "    <tr style=\"text-align: right;\">\n",
       "      <th></th>\n",
       "      <th>Unnamed: 0</th>\n",
       "      <th>text</th>\n",
       "      <th>summary</th>\n",
       "      <th>title</th>\n",
       "      <th>grade</th>\n",
       "      <th>comment_count</th>\n",
       "      <th>is_countable</th>\n",
       "      <th>timestamp</th>\n",
       "      <th>__phoenix_cluster_id__</th>\n",
       "    </tr>\n",
       "  </thead>\n",
       "  <tbody>\n",
       "    <tr>\n",
       "      <th>0</th>\n",
       "      <td>0</td>\n",
       "      <td>&lt;p&gt;Добрый день. Хоум банк передал все права в ...</td>\n",
       "      <td>Пользователь сообщает, что его кредит был пере...</td>\n",
       "      <td>Передали мою кредитную карту в другой банк</td>\n",
       "      <td>1.0</td>\n",
       "      <td>0</td>\n",
       "      <td>NaN</td>\n",
       "      <td>2025-02-06 12:20:50.269000+00:00</td>\n",
       "      <td>21</td>\n",
       "    </tr>\n",
       "    <tr>\n",
       "      <th>1</th>\n",
       "      <td>1</td>\n",
       "      <td>&lt;p&gt;27.11 на кредитном счете 6889 были заблокир...</td>\n",
       "      <td>Пользователь сообщил о блокировке 10 000 рубле...</td>\n",
       "      <td>Незаконное удержание средств !!!!!!!</td>\n",
       "      <td>1.0</td>\n",
       "      <td>0</td>\n",
       "      <td>NaN</td>\n",
       "      <td>2025-02-06 12:20:50.269000+00:00</td>\n",
       "      <td>41</td>\n",
       "    </tr>\n",
       "    <tr>\n",
       "      <th>2</th>\n",
       "      <td>2</td>\n",
       "      <td>&lt;p&gt;Оформляла кредитную карту Хоум банк в июне ...</td>\n",
       "      <td>Пользователь оформил кредитную карту Хоум банк...</td>\n",
       "      <td>Не дали сертификат озон</td>\n",
       "      <td>3.0</td>\n",
       "      <td>0</td>\n",
       "      <td>NaN</td>\n",
       "      <td>2025-02-06 12:20:50.269000+00:00</td>\n",
       "      <td>0</td>\n",
       "    </tr>\n",
       "    <tr>\n",
       "      <th>3</th>\n",
       "      <td>3</td>\n",
       "      <td>&lt;p&gt;Я пришел в офис, чтобы его закрыть досрочно...</td>\n",
       "      <td>Пользователь столкнулся с проблемой отсутствия...</td>\n",
       "      <td>Класс)</td>\n",
       "      <td>5.0</td>\n",
       "      <td>0</td>\n",
       "      <td>0.0</td>\n",
       "      <td>2025-02-06 12:20:50.269000+00:00</td>\n",
       "      <td>11</td>\n",
       "    </tr>\n",
       "    <tr>\n",
       "      <th>4</th>\n",
       "      <td>4</td>\n",
       "      <td>&lt;p&gt;У меня есть кредит в Хоум банке.&lt;/p&gt;\\r\\n&lt;p&gt;...</td>\n",
       "      <td>Пользователь столкнулся с проблемой при оплате...</td>\n",
       "      <td>Просрочка по вине банка</td>\n",
       "      <td>1.0</td>\n",
       "      <td>0</td>\n",
       "      <td>NaN</td>\n",
       "      <td>2025-02-06 12:20:50.269000+00:00</td>\n",
       "      <td>46</td>\n",
       "    </tr>\n",
       "    <tr>\n",
       "      <th>...</th>\n",
       "      <td>...</td>\n",
       "      <td>...</td>\n",
       "      <td>...</td>\n",
       "      <td>...</td>\n",
       "      <td>...</td>\n",
       "      <td>...</td>\n",
       "      <td>...</td>\n",
       "      <td>...</td>\n",
       "      <td>...</td>\n",
       "    </tr>\n",
       "    <tr>\n",
       "      <th>1015</th>\n",
       "      <td>1015</td>\n",
       "      <td>&lt;p&gt;Захотел подать заявку на кредитную карту \"1...</td>\n",
       "      <td>**Краткий пересказ сообщения:**\\n\\nПользовател...</td>\n",
       "      <td>Что надо знать перед оформлением кредитки \"120...</td>\n",
       "      <td>5.0</td>\n",
       "      <td>2</td>\n",
       "      <td>1.0</td>\n",
       "      <td>2025-02-06 12:20:50.269000+00:00</td>\n",
       "      <td>23</td>\n",
       "    </tr>\n",
       "    <tr>\n",
       "      <th>1016</th>\n",
       "      <td>1016</td>\n",
       "      <td>&lt;p&gt;Брала рассрочку в Хоум банке. Каждый месяц ...</td>\n",
       "      <td>Пользователь сообщает о проблемах с оплатой по...</td>\n",
       "      <td>Хоум Банк не дает совершить последний платеж</td>\n",
       "      <td>1.0</td>\n",
       "      <td>0</td>\n",
       "      <td>1.0</td>\n",
       "      <td>2025-02-06 12:20:50.269000+00:00</td>\n",
       "      <td>46</td>\n",
       "    </tr>\n",
       "    <tr>\n",
       "      <th>1017</th>\n",
       "      <td>1017</td>\n",
       "      <td>&lt;p&gt;Здравствуйте, хочу поблагодарить банк Хоум ...</td>\n",
       "      <td>**Краткий пересказ:**\\nПользователь благодарит...</td>\n",
       "      <td>Увеличили лимит на денежный перевод</td>\n",
       "      <td>5.0</td>\n",
       "      <td>0</td>\n",
       "      <td>0.0</td>\n",
       "      <td>2025-02-06 12:20:50.269000+00:00</td>\n",
       "      <td>8</td>\n",
       "    </tr>\n",
       "    <tr>\n",
       "      <th>1018</th>\n",
       "      <td>1018</td>\n",
       "      <td>&lt;p&gt;Здравствуйте! Я очень довольна что в этом б...</td>\n",
       "      <td>Пользователь выражает удовлетворение качеством...</td>\n",
       "      <td>Помогут даже в выходные дни</td>\n",
       "      <td>5.0</td>\n",
       "      <td>0</td>\n",
       "      <td>1.0</td>\n",
       "      <td>2025-02-06 12:20:50.269000+00:00</td>\n",
       "      <td>7</td>\n",
       "    </tr>\n",
       "    <tr>\n",
       "      <th>1019</th>\n",
       "      <td>1019</td>\n",
       "      <td>&lt;p&gt;Здравствуйте! Понадобилась кредитная карта ...</td>\n",
       "      <td>Пользователь получил кредитную карту Хоум Банк...</td>\n",
       "      <td>Выполнили то что обещают</td>\n",
       "      <td>5.0</td>\n",
       "      <td>0</td>\n",
       "      <td>0.0</td>\n",
       "      <td>2025-02-06 12:20:50.269000+00:00</td>\n",
       "      <td>0</td>\n",
       "    </tr>\n",
       "  </tbody>\n",
       "</table>\n",
       "<p>1020 rows × 9 columns</p>\n",
       "</div>"
      ]
     },
     "execution_count": 29,
     "metadata": {},
     "output_type": "execute_result"
    }
   ],
   "execution_count": 29
  },
  {
   "metadata": {},
   "cell_type": "markdown",
   "source": [
    "-----\n",
    "### Выбираем кластера"
   ],
   "id": "335ea1b67304e4d2"
  },
  {
   "metadata": {
    "ExecuteTime": {
     "end_time": "2025-02-18T11:57:05.985414Z",
     "start_time": "2025-02-18T11:57:05.969608Z"
    }
   },
   "cell_type": "code",
   "source": [
    "with_grades = df.groupby(['__phoenix_cluster_id__'])['__phoenix_cluster_id__'].count().reset_index(name='count').join(\n",
    "    df.groupby(['__phoenix_cluster_id__']).grade.mean(), on='__phoenix_cluster_id__'\n",
    ").sort_values('count', ascending=False)\n",
    "clusters = list(with_grades[with_grades['grade'] < 4]['__phoenix_cluster_id__'][:5])"
   ],
   "id": "a10b517bef3486a6",
   "outputs": [],
   "execution_count": 8
  },
  {
   "metadata": {
    "ExecuteTime": {
     "end_time": "2025-02-18T11:57:21.554473Z",
     "start_time": "2025-02-18T11:57:21.550772Z"
    }
   },
   "cell_type": "code",
   "source": "clusters",
   "id": "4c2e9e4d6e9c3172",
   "outputs": [
    {
     "data": {
      "text/plain": [
       "['0', '17', '14', '24', '19']"
      ]
     },
     "execution_count": 9,
     "metadata": {},
     "output_type": "execute_result"
    }
   ],
   "execution_count": 9
  },
  {
   "metadata": {},
   "cell_type": "markdown",
   "source": [
    "------\n",
    "### Создаем цепочку для названия кластеров"
   ],
   "id": "e087ad09b342f675"
  },
  {
   "metadata": {
    "ExecuteTime": {
     "end_time": "2025-02-18T11:59:19.421601Z",
     "start_time": "2025-02-18T11:59:19.412892Z"
    }
   },
   "cell_type": "code",
   "source": [
    "from langchain_core.prompts import ChatPromptTemplate\n",
    "from langchain_core.output_parsers import PydanticOutputParser\n",
    "from langchain_core.runnables import RunnablePassthrough, RunnableLambda\n",
    "from pydantic import BaseModel, Field\n",
    "\n",
    "def format_messages(params):\n",
    "    return {\"messages\": \"\\n--------\\n\".join(params['messages'])}\n",
    "    \n",
    "class CategoryInfo(BaseModel):\n",
    "    \"\"\"Информация о категории\"\"\"\n",
    "    reasoning: str = Field(description=\"Рассуждения почему ты выбрал именно эту категорию\")\n",
    "    name: str = Field(description=\"Название категории\")\n",
    "    \n",
    "category_parser = PydanticOutputParser(pydantic_object=CategoryInfo)\n",
    "\n",
    "category_prompt = ChatPromptTemplate.from_messages([\n",
    "    (\"system\", \"\"\"Ты помощник в составлении отчетов.\n",
    "Твоя задача из списка сообщений ниже выявить одну общую категорию, к которой они относятся.\n",
    "\n",
    "Ниже я приведу список сообщений\n",
    "--------\n",
    "{messages}\n",
    "--------\n",
    "\n",
    "Отвечай в в формате JSON\n",
    "{format_instructions}\n",
    "\"\"\")\n",
    "]).partial(format_instructions=category_parser.get_format_instructions())\n",
    "\n",
    "category_chain = (\n",
    "        {\"messages\": RunnablePassthrough()} |\n",
    "        RunnableLambda(format_messages) | \n",
    "        category_prompt | \n",
    "        llm.bind(temperature=0.1) | \n",
    "        category_parser\n",
    ")"
   ],
   "id": "8f080429934fcf75",
   "outputs": [],
   "execution_count": 10
  },
  {
   "metadata": {},
   "cell_type": "markdown",
   "source": "Проверяем работу цепочки",
   "id": "5aa9f1ffe56b9190"
  },
  {
   "metadata": {
    "ExecuteTime": {
     "end_time": "2025-02-18T11:59:23.774741Z",
     "start_time": "2025-02-18T11:59:21.279277Z"
    }
   },
   "cell_type": "code",
   "source": [
    "category_chain.invoke(\n",
    "    list(df[df['__phoenix_cluster_id__'] == clusters[0]]['summary'])[:50]\n",
    ")"
   ],
   "id": "f661d79321d72c05",
   "outputs": [
    {
     "data": {
      "text/plain": [
       "CategoryInfo(reasoning='Все сообщения касаются проблем, связанных с невыполнением условий акций, неправильным начислением бонусов или кэшбэка, а также сложностями в коммуникации с поддержкой банка. Это объединяет их в одну общую категорию.', name='Проблемы с акциями и бонусами')"
      ]
     },
     "execution_count": 11,
     "metadata": {},
     "output_type": "execute_result"
    }
   ],
   "execution_count": 11
  },
  {
   "metadata": {},
   "cell_type": "markdown",
   "source": "Теперь создаем названия категорий для всех 5 кластеров",
   "id": "932fffd6ecdf593f"
  },
  {
   "metadata": {
    "ExecuteTime": {
     "end_time": "2025-02-18T11:59:51.916893Z",
     "start_time": "2025-02-18T11:59:39.845160Z"
    }
   },
   "cell_type": "code",
   "source": [
    "from tqdm import tqdm\n",
    "\n",
    "categories = {}\n",
    "\n",
    "for i in tqdm(clusters):\n",
    "    categories[i] = {\n",
    "        \"info\": category_chain.invoke(\n",
    "            list(df[df['__phoenix_cluster_id__'] == i]['summary'])[:50]\n",
    "        )\n",
    "    }"
   ],
   "id": "2d366307b22243a1",
   "outputs": [
    {
     "name": "stderr",
     "output_type": "stream",
     "text": [
      "100%|██████████| 5/5 [00:12<00:00,  2.41s/it]\n"
     ]
    }
   ],
   "execution_count": 12
  },
  {
   "metadata": {},
   "cell_type": "markdown",
   "source": "Посмотрим названия получившихся категорий",
   "id": "6d6da0cd7aaee334"
  },
  {
   "metadata": {
    "ExecuteTime": {
     "end_time": "2025-02-18T11:59:52.610557Z",
     "start_time": "2025-02-18T11:59:52.606105Z"
    }
   },
   "cell_type": "code",
   "source": "[category['info'].name for category in categories.values()]",
   "id": "be36d6b97dd3c24c",
   "outputs": [
    {
     "data": {
      "text/plain": [
       "['Проблемы с акциями и бонусами',\n",
       " 'Проблемы с рассрочкой и кредитами',\n",
       " 'Проблемы с обслуживанием',\n",
       " 'Проблемы с кредитными картами',\n",
       " 'Проблемы после объединения Хоум Банка и Совкомбанка']"
      ]
     },
     "execution_count": 13,
     "metadata": {},
     "output_type": "execute_result"
    }
   ],
   "execution_count": 13
  },
  {
   "metadata": {},
   "cell_type": "markdown",
   "source": [
    "--------\n",
    "### Создаем цепочку для создания описания агента\n",
    "**Мы не тестировали улучшает ли этот способ создание отчетов для категории**\n",
    "\n",
    "Гипотеза в том, что для разных тематик можно генерировать разный промпт, который будет\n",
    "подставляться в промпт создания отчета"
   ],
   "id": "f4fb68ae51635d98"
  },
  {
   "metadata": {
    "ExecuteTime": {
     "end_time": "2025-02-18T12:01:23.582786Z",
     "start_time": "2025-02-18T12:01:23.574234Z"
    }
   },
   "cell_type": "code",
   "source": [
    "from langchain_core.prompts import ChatPromptTemplate\n",
    "from langchain_core.output_parsers import PydanticOutputParser\n",
    "from langchain_core.runnables import RunnablePassthrough\n",
    "from pydantic import BaseModel, Field\n",
    "\n",
    "class AgentInfo(BaseModel):\n",
    "    \"\"\"Информация об агенте\"\"\"\n",
    "\n",
    "    name: str = Field(description=\"Название агента\")\n",
    "    agent_role_prompt: str = Field(description=\"Промпт агента\")\n",
    "    \n",
    "agent_parser = PydanticOutputParser(pydantic_object=AgentInfo)\n",
    "\n",
    "agent_generation = \"\"\"Ты помощник в составлении отчетов.\n",
    "Твоя задача создать описания агента исходя из заданной пользователем темы.\n",
    "Определяется областью темы и конкретным именем агента, который может быть использован для создания отчета под конкретную тему. Агенты классифицируются по их области экспертизы.\n",
    "\n",
    "Отвечай в формате JSON:\n",
    "{format_instructions}\n",
    "\n",
    "Примеры:\n",
    "\n",
    "задача: \"Инвестиции в акции Apple\"\n",
    "ответ: \n",
    "{{\n",
    "    \"name\": \"Финансовый агент\",\n",
    "    \"agent_role_prompt\": \"Ты — ИИ-помощник аналитика финансов. Твоя основная задача — составлять всесторонние, продуманные, беспристрастные и методически структурированные финансовые отчёты на основе предоставленных данных и тенденций.\"\n",
    "}}\n",
    "задача: \"перепродажа кроссовок\"\n",
    "ответ: \n",
    "{{\n",
    "    \"name\":  \"Агент бизнес-аналитики\",\n",
    "    \"agent_role_prompt\": \"Ты — ИИ-помощник бизнес-аналитика. Твоя основная цель — создавать всесторонние, проницательные, беспристрастные и систематически структурированные бизнес-отчёты на основе предоставленных бизнес-данных, рыночных тенденций и стратегического анализа.\"\n",
    "}}\n",
    "задача: \"интересные места в Тель-Авиве\"\n",
    "ответ:\n",
    "{{\n",
    "    \"name\":  \"Туристический агент\",\n",
    "    \"agent_role_prompt\": \"Ты — ИИ-помощник гида. Твоя основная задача — составлять увлекательные, информативные, беспристрастные и хорошо структурированные туристические отчёты по заданным местам, включая историю, достопримечательности и культурные особенности.\"\n",
    "}}\"\"\"\n",
    "\n",
    "agent_prompt = ChatPromptTemplate.from_messages([\n",
    "    (\"system\", agent_generation),\n",
    "    (\"user\", \"задача: \\\"{message}\\\"\")\n",
    "]).partial(format_instructions=agent_parser.get_format_instructions())\n",
    "\n",
    "agent_chain = {\"message\": RunnablePassthrough()} | agent_prompt | llm.bind(temperature=0.2) | agent_parser"
   ],
   "id": "b3a981fe78c21388",
   "outputs": [],
   "execution_count": 14
  },
  {
   "metadata": {},
   "cell_type": "markdown",
   "source": "Тестируем цепочку",
   "id": "cf2b7c084eb5c487"
  },
  {
   "metadata": {
    "ExecuteTime": {
     "end_time": "2025-02-18T12:01:35.513081Z",
     "start_time": "2025-02-18T12:01:33.922269Z"
    }
   },
   "cell_type": "code",
   "source": [
    "cluster = clusters[0]\n",
    "agent_chain.invoke(categories[cluster]['info'].name)"
   ],
   "id": "2e18314100dee33b",
   "outputs": [
    {
     "data": {
      "text/plain": [
       "AgentInfo(name='Финансовый агент', agent_role_prompt='Ты — ИИ-помощник аналитика финансов. Твоя основная задача — составлять всесторонние, продуманные, беспристрастные и методически структурированные финансовые отчёты на основе предоставленных данных и тенденций.')"
      ]
     },
     "execution_count": 15,
     "metadata": {},
     "output_type": "execute_result"
    }
   ],
   "execution_count": 15
  },
  {
   "metadata": {},
   "cell_type": "markdown",
   "source": "Заполняем описания агентов",
   "id": "bd12449f0b3f3d38"
  },
  {
   "metadata": {
    "ExecuteTime": {
     "end_time": "2025-02-18T12:02:04.453328Z",
     "start_time": "2025-02-18T12:01:55.464438Z"
    }
   },
   "cell_type": "code",
   "source": [
    "for i in tqdm(clusters):\n",
    "    categories[i][\"agent\"] = agent_chain.invoke(categories[i]['info'].name)"
   ],
   "id": "b4efc6f66224973e",
   "outputs": [
    {
     "name": "stderr",
     "output_type": "stream",
     "text": [
      "100%|██████████| 5/5 [00:08<00:00,  1.80s/it]\n"
     ]
    }
   ],
   "execution_count": 16
  },
  {
   "metadata": {},
   "cell_type": "markdown",
   "source": "Смотрим результат",
   "id": "cc47be3c263e17c5"
  },
  {
   "metadata": {
    "ExecuteTime": {
     "end_time": "2025-02-18T12:02:16.019250Z",
     "start_time": "2025-02-18T12:02:16.015518Z"
    }
   },
   "cell_type": "code",
   "source": "[i['agent'] for i in categories.values()]",
   "id": "cfa6185c096d0e8c",
   "outputs": [
    {
     "data": {
      "text/plain": [
       "[AgentInfo(name='Финансовый агент', agent_role_prompt='Ты — ИИ-помощник аналитика финансов. Твоя основная задача — составлять всесторонние, продуманные, беспристрастные и методически структурированные финансовые отчёты на основе предоставленных данных и тенденций.'),\n",
       " AgentInfo(name='Финансовый агент', agent_role_prompt='Ты — ИИ-помощник финансового аналитика. Твоя основная задача — составлять всесторонние, продуманные, беспристрастные и методически структурированные отчёты по вопросам, связанным с финансами, кредитами и рассрочками. Твои отчёты должны включать анализ проблем, возможных решений и рекомендации.'),\n",
       " AgentInfo(name='Агент по обслуживанию клиентов', agent_role_prompt='Ты — ИИ-помощник в сфере обслуживания клиентов. Твоя основная задача — анализировать проблемы, связанные с обслуживанием, выявлять их причины и предлагать решения для улучшения качества обслуживания. Ты должен предоставлять отчёты, которые будут всесторонними, объективными и структурированными.'),\n",
       " AgentInfo(name='Финансовый агент', agent_role_prompt='Ты — ИИ-помощник финансового аналитика. Твоя основная задача — составлять всесторонние, продуманные, беспристрастные и методически структурированные отчёты по финансовым вопросам, включая проблемы с кредитными картами.'),\n",
       " AgentInfo(name='Финансовый аналитик', agent_role_prompt='Ты — ИИ-помощник финансового аналитика. Твоя основная задача — составлять всесторонние, продуманные, беспристрастные и методически структурированные отчёты о финансовых проблемах и последствиях объединения банков, таких как Хоум Банк и Совкомбанк.')]"
      ]
     },
     "execution_count": 17,
     "metadata": {},
     "output_type": "execute_result"
    }
   ],
   "execution_count": 17
  },
  {
   "metadata": {},
   "cell_type": "markdown",
   "source": [
    "--------\n",
    "### Создаем подотчеты"
   ],
   "id": "5a91e72fb8ee0095"
  },
  {
   "metadata": {
    "ExecuteTime": {
     "end_time": "2025-02-18T12:04:06.525909Z",
     "start_time": "2025-02-18T12:04:06.522080Z"
    }
   },
   "cell_type": "code",
   "source": [
    "from langchain_core.prompts import ChatPromptTemplate\n",
    "from langchain_core.output_parsers import StrOutputParser\n",
    "\n",
    "SUB_REPORT_PROBLEM = ChatPromptTemplate.from_messages(\n",
    "    [\n",
    "        (\n",
    "            \"system\",\n",
    "            \"\"\"{agent_description}\n",
    "\n",
    "**Цель:** Подготовить структурированный и детализированный подотчет на тему {theme}\n",
    "\n",
    "### Формат отчета и требования:\n",
    "- **Формат:** Markdown\n",
    "- **Заголовки:** Используй заголовки с уровня 2 (##).\n",
    "- **Анализ:** Выдели основные проблемы и предложения, которые пишут в своих отзывах пользователи.\n",
    "- **Стиль:** Стремись к аналитическому и связному изложению;\n",
    "\n",
    "Сообщения представлены ниже\n",
    "Всего сообщений: {problem_count}\n",
    "-------\n",
    "{context}\n",
    "-------\n",
    "\n",
    "Твой отчет:\n",
    "## {theme}\n",
    "\"\"\")\n",
    "    ]\n",
    ")\n",
    "report_chain = SUB_REPORT_PROBLEM | llm.bind(max_tokens=32000, temperature=0.2) | StrOutputParser()"
   ],
   "id": "8856c36f6537b5f",
   "outputs": [],
   "execution_count": 18
  },
  {
   "metadata": {
    "ExecuteTime": {
     "end_time": "2025-02-18T12:04:08.546090Z",
     "start_time": "2025-02-18T12:04:08.542619Z"
    }
   },
   "cell_type": "code",
   "source": "categories['0']",
   "id": "b667927bfb242692",
   "outputs": [
    {
     "data": {
      "text/plain": [
       "{'info': CategoryInfo(reasoning='Все сообщения касаются проблем, связанных с невыполнением условий акций, неправильным начислением бонусов или кэшбэка, а также сложностями в коммуникации с поддержкой банка. Это объединяет их в одну общую категорию.', name='Проблемы с акциями и бонусами'),\n",
       " 'agent': AgentInfo(name='Финансовый агент', agent_role_prompt='Ты — ИИ-помощник аналитика финансов. Твоя основная задача — составлять всесторонние, продуманные, беспристрастные и методически структурированные финансовые отчёты на основе предоставленных данных и тенденций.')}"
      ]
     },
     "execution_count": 19,
     "metadata": {},
     "output_type": "execute_result"
    }
   ],
   "execution_count": 19
  },
  {
   "metadata": {},
   "cell_type": "markdown",
   "source": "Тестируем цепочку",
   "id": "7fc5c9a038ff4042"
  },
  {
   "metadata": {
    "ExecuteTime": {
     "end_time": "2025-02-18T12:04:27.233444Z",
     "start_time": "2025-02-18T12:04:11.534870Z"
    }
   },
   "cell_type": "code",
   "source": [
    "cluster = clusters[0]\n",
    "problems = list(df[df['__phoenix_cluster_id__'] == cluster]['summary'])[:75]\n",
    "print(report_chain.invoke({\n",
    "    'theme': categories[cluster]['info'].name,\n",
    "    'agent_description': categories[cluster]['agent'].agent_role_prompt,\n",
    "    'context': \"\\n-------\\n\".join(problems),\n",
    "    \"problem_count\": len(problems),\n",
    "}))"
   ],
   "id": "ddf5956572269dd5",
   "outputs": [
    {
     "name": "stdout",
     "output_type": "stream",
     "text": [
      "### Основные проблемы\n",
      "\n",
      "1. **Неполучение обещанных бонусов и сертификатов**:\n",
      "   - Пользователи часто сталкиваются с ситуацией, когда после выполнения всех условий акции (совершение покупок, привлечение друзей и т.д.) они не получают обещанные бонусы, сертификаты или кешбэк. Это вызывает недовольство и недоверие к банку.\n",
      "\n",
      "2. **Несоответствие условий акций и реальности**:\n",
      "   - В ряде случаев пользователи обнаруживают, что условия акций, указанные в рекламе или на сайте банка, не соответствуют действительности. Например, обещанный кэшбэк не начисляется, или его размер оказывается меньше заявленного.\n",
      "\n",
      "3. **Проблемы с технической поддержкой**:\n",
      "   - Пользователи жалуются на низкое качество обслуживания в службе поддержки. Операторы часто не могут предоставить точную информацию, затягивают решение проблем или перенаправляют клиентов к другим организациям (например, к партнерам банка).\n",
      "\n",
      "4. **Отсутствие прозрачности в условиях акций**:\n",
      "   - Многие пользователи отмечают, что условия акций и бонусных программ изложены нечетко или скрыты. Это приводит к недопониманию и разочарованию, когда клиенты не получают ожидаемые вознаграждения.\n",
      "\n",
      "5. **Технические сбои и ошибки**:\n",
      "   - Некоторые пользователи сталкиваются с техническими проблемами, такими как отмена транзакций, исчезновение прогнозного кэшбэка или неправильное начисление бонусов. Это вызывает дополнительные неудобства и требует времени на решение проблем.\n",
      "\n",
      "6. **Перекладывание ответственности между банком и партнерами**:\n",
      "   - В случае невыполнения условий акций банк часто перекладывает ответственность на партнеров (например, Ozon), что создает замкнутый круг и затрудняет решение проблем для клиентов.\n",
      "\n",
      "### Предложения\n",
      "\n",
      "1. **Улучшение коммуникации с клиентами**:\n",
      "   - Повысить качество обслуживания в службе поддержки, чтобы операторы могли оперативно и точно решать проблемы клиентов.\n",
      "   - Упростить процесс получения информации о статусе акций и бонусов.\n",
      "\n",
      "2. **Прозрачность условий акций**:\n",
      "   - Четко и доступно излагать условия акций и бонусных программ, чтобы избежать недопонимания со стороны клиентов.\n",
      "   - Указывать все возможные ограничения и исключения заранее.\n",
      "\n",
      "3. **Решение технических проблем**:\n",
      "   - Устранить технические сбои, которые приводят к отмене транзакций или неправильному начислению бонусов.\n",
      "   - Обеспечить корректное отображение информации о кэшбэке и бонусах в личном кабинете клиента.\n",
      "\n",
      "4. **Повышение ответственности за выполнение акций**:\n",
      "   - Банк должен взять на себя ответственность за выполнение условий акций, даже если они проводятся совместно с партнерами.\n",
      "   - Создать четкие механизмы взаимодействия с партнерами для быстрого решения проблем клиентов.\n",
      "\n",
      "5. **Обратная связь и компенсация**:\n",
      "   - В случае невыполнения условий акций предлагать клиентам компенсацию в виде дополнительных бонусов или сертификатов.\n",
      "   - Активно собирать и анализировать отзывы клиентов для улучшения качества услуг.\n",
      "\n",
      "### Заключение\n",
      "\n",
      "Проблемы с акциями и бонусами являются значительными и требуют внимания со стороны банка. Улучшение коммуникации, повышение прозрачности условий и устранение технических сбоев помогут повысить доверие клиентов и улучшить их опыт взаимодействия с банком.\n"
     ]
    }
   ],
   "execution_count": 20
  },
  {
   "metadata": {},
   "cell_type": "markdown",
   "source": "Запускаем генерацию подотчетов для всех категорий",
   "id": "8f881198e2e0993f"
  },
  {
   "metadata": {
    "ExecuteTime": {
     "end_time": "2025-02-19T11:18:28.570996Z",
     "start_time": "2025-02-19T11:17:42.143022Z"
    }
   },
   "cell_type": "code",
   "source": [
    "batch_requests = []\n",
    "for i in clusters:\n",
    "    problems = list(df[df['__phoenix_cluster_id__'] == i]['summary'])[:75]\n",
    "    batch_requests.append({\n",
    "        'theme': categories[i]['info'].name,\n",
    "        'agent_description': categories[i]['agent'].agent_role_prompt,\n",
    "        'context': \"\\n-------\\n\".join(problems),\n",
    "        \"problem_count\": len(problems),\n",
    "    })\n",
    "    \n",
    "batch_responses = report_chain.batch(batch_requests, config={\"max_concurrency\": 3})"
   ],
   "id": "34a44f46ebe8bc26",
   "outputs": [],
   "execution_count": 24
  },
  {
   "metadata": {
    "ExecuteTime": {
     "end_time": "2025-02-19T11:20:00.494888Z",
     "start_time": "2025-02-19T11:20:00.492368Z"
    }
   },
   "cell_type": "code",
   "source": [
    "for cluster, report in zip(clusters, batch_responses):\n",
    "    categories[cluster]['report'] = report"
   ],
   "id": "67bd68bf3378624",
   "outputs": [],
   "execution_count": 27
  },
  {
   "metadata": {
    "ExecuteTime": {
     "end_time": "2025-02-18T12:06:35.114150Z",
     "start_time": "2025-02-18T12:04:36.730489Z"
    }
   },
   "cell_type": "code",
   "source": [
    "for i in tqdm(clusters):\n",
    "    problems = list(df[df['__phoenix_cluster_id__'] == i]['summary'])[:75]\n",
    "    categories[i]['report'] = report_chain.invoke({\n",
    "        'theme': categories[i]['info'].name,\n",
    "        'agent_description': categories[i]['agent'].agent_role_prompt,\n",
    "        'context': \"\\n-------\\n\".join(problems),\n",
    "        \"problem_count\": len(problems),\n",
    "    })"
   ],
   "id": "a0d4b773016fd8c2",
   "outputs": [
    {
     "name": "stderr",
     "output_type": "stream",
     "text": [
      "100%|██████████| 5/5 [01:58<00:00, 23.68s/it]\n"
     ]
    }
   ],
   "execution_count": 21
  },
  {
   "metadata": {},
   "cell_type": "markdown",
   "source": [
    "--------\n",
    "### Склеиваем все подотчеты в PDF"
   ],
   "id": "4682fe9b5a7d09c0"
  },
  {
   "metadata": {
    "ExecuteTime": {
     "end_time": "2025-02-19T11:20:04.527023Z",
     "start_time": "2025-02-19T11:20:04.106716Z"
    }
   },
   "cell_type": "code",
   "source": [
    "from md2pdf.core import md2pdf\n",
    "reports = \"\"\n",
    "\n",
    "for i in clusters:\n",
    "    reports += f\"\"\"\n",
    "    \n",
    "## {categories[i]['info'].name}\n",
    "\n",
    "{categories[i]['report']}\n",
    "\n",
    "\"\"\"\n",
    "md2pdf(\n",
    "    \"report.pdf\",\n",
    "    md_content=f\"\"\"# Отчет по сообщениям\n",
    "\n",
    "{reports}\n",
    "\"\"\",\n",
    "    css_file_path=\"styles.css\",  # Updated path\n",
    "    base_url=\".\",\n",
    ")"
   ],
   "id": "50014becc249b250",
   "outputs": [],
   "execution_count": 28
  },
  {
   "metadata": {},
   "cell_type": "markdown",
   "source": [
    "---\n",
    "\n",
    "## Заключение\n",
    "\n",
    "Существует несколько направлений для дальнейшего улучшения pipeline'а:\n",
    "\n",
    "- **Обработка большого объёма отзывов.**  \n",
    "  На данный момент для генерации подотчёта используются только первые 75 отзывов. Это ограничение введено из-за большого размера первого кластера (150 отзывов). Для более полного анализа можно рассмотреть следующие подходы:\n",
    "  1. **Итеративное расширение отчёта.** Начинать с генерации подотчёта по первому набору отзывов, а затем постепенно дополнять его, добавляя по 30–50 новых отзывов и прося LLM расширить уже созданный текст в режиме диалога (user-ai-user-ai-*).\n",
    "  2. **Параллельная обработка чанков.** Разбить 150 отзывов на несколько частей (например, на 3 чанка), сформировать по отдельному подотчёту для каждой части и затем объединить их в единый подотчет.\n",
    "\n",
    "- **Выделение ключевых тем.**  \n",
    "  Перед генерацией подотчёта можно попросить LLM выделить темы, которые стоит раскрыть, исходя из суммаризаций. Дополнительно можно внедрить механизм *Human-in-the-Loop*, при котором специалист утвердит предложенные темы или скорректирует их, что позволит добиться более точного отражения проблематики.\n",
    "\n",
    "- **Многоклассовая категоризация.**  \n",
    "  Текущий pipeline присваивает каждому отзыву лишь одну категорию проблем, что может ограничивать полноту анализа. В данный момент мы разрабатываем подход, позволяющий присваивать отзывам несколько тематических категорий. Эти категории могут быть заранее определены или выявляться динамически и добавляться в дерево категорий.\n",
    "\n",
    "Мы продолжаем работать над совершенствованием данного pipeline. Если удастся успешно реализовать предложенные улучшения, результаты будут опубликованы в ближайшее время.  \n",
    "**To be continued…**\n"
   ],
   "id": "8a01273280dec16e"
  }
 ],
 "metadata": {
  "kernelspec": {
   "display_name": "Python 3",
   "language": "python",
   "name": "python3"
  },
  "language_info": {
   "codemirror_mode": {
    "name": "ipython",
    "version": 2
   },
   "file_extension": ".py",
   "mimetype": "text/x-python",
   "name": "python",
   "nbconvert_exporter": "python",
   "pygments_lexer": "ipython2",
   "version": "2.7.6"
  }
 },
 "nbformat": 4,
 "nbformat_minor": 5
}
